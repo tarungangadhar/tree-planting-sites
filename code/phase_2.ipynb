{
  "nbformat": 4,
  "nbformat_minor": 0,
  "metadata": {
    "colab": {
      "provenance": []
    },
    "kernelspec": {
      "name": "python3",
      "display_name": "Python 3"
    },
    "language_info": {
      "name": "python"
    }
  },
  "cells": [
    {
      "cell_type": "code",
      "execution_count": 1,
      "metadata": {
        "colab": {
          "base_uri": "https://localhost:8080/"
        },
        "id": "uYhTZ-FuybEE",
        "outputId": "a5000851-3d7f-4329-c7c4-fddf68c80b33"
      },
      "outputs": [
        {
          "output_type": "stream",
          "name": "stdout",
          "text": [
            "Mounted at /content/drive\n",
            "/\n",
            "/content/drive/MyDrive/Colab Notebooks\n",
            "/content/drive/MyDrive/Colab Notebooks\n",
            " 50608557_50596117_50592389_50593975_phase_1.ipynb\t  fall24_cse574_Assignment_0.ipynb\n",
            "'50608557_50596117_50592389_50593975_phase_2 (1).ipynb'   srayanna_assignment_2_part_3.ipynb\n",
            " 50608557_50596117_50592389_50593975_phase_2.ipynb\t  srayanna_assignment_2_part_4.ipynb\n",
            " Assignment_1_group_99.ipynb\t\t\t\t  Tree_Inventory_chngd.csv\n",
            " DIC_phase_2_copy.ipynb\t\t\t\t\t  Untitled\n",
            " DIC_project_p1.ipynb\t\t\t\t\t  Untitled0.ipynb\n",
            " fall24_Assign_1_99.ipynb\t\t\t\t 'Untitled (1)'\n",
            "'fall24_cse574_Assignment_0 (1).ipynb'\t\t\t  Untitled1.ipynb\n",
            "'fall24_cse574_Assignment_0 (2).ipynb'\n"
          ]
        }
      ],
      "source": [
        "from google.colab import drive\n",
        "drive.mount('/content/drive')\n",
        "%cd ..\n",
        "%cd /content/drive/MyDrive/Colab Notebooks\n",
        "\n",
        "!pwd\n",
        "!ls\n"
      ]
    },
    {
      "cell_type": "code",
      "source": [
        "file_path = \"/content/drive/MyDrive/Colab Notebooks/Tree_Inventory_chngd.csv\""
      ],
      "metadata": {
        "id": "_HOfre9a5VTq"
      },
      "execution_count": 2,
      "outputs": []
    },
    {
      "cell_type": "code",
      "source": [
        "from pyspark.sql import SparkSession\n",
        "from pyspark.sql.functions import col, when, mean\n",
        "from pyspark.ml.feature import VectorAssembler, StandardScaler"
      ],
      "metadata": {
        "id": "dCsYa1gw6ZAY"
      },
      "execution_count": 3,
      "outputs": []
    },
    {
      "cell_type": "code",
      "source": [
        "#creating a spark session\n",
        "spark = SparkSession.builder \\\n",
        "    .appName(\"UrbanTreePlanting\") \\\n",
        "    .getOrCreate()"
      ],
      "metadata": {
        "id": "h93prR3y6qew"
      },
      "execution_count": 4,
      "outputs": []
    },
    {
      "cell_type": "code",
      "source": [
        "#feeding the input data from the csv file to spark\n",
        "spark_df = spark.read.csv(file_path, header=True, inferSchema=True)"
      ],
      "metadata": {
        "id": "sWGG1Ykq6sHb"
      },
      "execution_count": 5,
      "outputs": []
    },
    {
      "cell_type": "code",
      "source": [
        "from google.colab import drive\n",
        "drive.mount('/content/drive')"
      ],
      "metadata": {
        "colab": {
          "base_uri": "https://localhost:8080/"
        },
        "id": "T8jtofqdxd7k",
        "outputId": "fb8256c0-7c07-4ead-dc5f-e9cb134ec866"
      },
      "execution_count": 6,
      "outputs": [
        {
          "output_type": "stream",
          "name": "stdout",
          "text": [
            "Drive already mounted at /content/drive; to attempt to forcibly remount, call drive.mount(\"/content/drive\", force_remount=True).\n"
          ]
        }
      ]
    },
    {
      "cell_type": "code",
      "source": [
        "# printing the schema of loaded dataset which are column names and data types\n",
        "spark_df.printSchema()"
      ],
      "metadata": {
        "colab": {
          "base_uri": "https://localhost:8080/"
        },
        "id": "w3lquS1X6tup",
        "outputId": "c3a9039a-932b-4c7d-b059-2692487f67ec"
      },
      "execution_count": 7,
      "outputs": [
        {
          "output_type": "stream",
          "name": "stdout",
          "text": [
            "root\n",
            " |-- Editing: string (nullable = true)\n",
            " |-- Botanical Name: string (nullable = true)\n",
            " |-- Common Name: string (nullable = true)\n",
            " |-- DBH: double (nullable = true)\n",
            " |-- Total Yearly Eco Benefits ($): double (nullable = true)\n",
            " |-- Stormwater Benefits ($): double (nullable = true)\n",
            " |-- Stormwater Gallons Saved: double (nullable = true)\n",
            " |-- Greenhouse CO2 Benefits ($): double (nullable = true)\n",
            " |-- CO2 Avoided (in lbs.): double (nullable = true)\n",
            " |-- CO2 Sequestered (in lbs.): double (nullable = true)\n",
            " |-- Energy Benefits ($): double (nullable = true)\n",
            " |-- kWh Saved: double (nullable = true)\n",
            " |-- Therms Saved: double (nullable = true)\n",
            " |-- Air Quality Benefits ($): double (nullable = true)\n",
            " |-- Pollutants Saved (in lbs.): double (nullable = true)\n",
            " |-- Property Benefits ($): double (nullable = true)\n",
            " |-- Leaf Surface Area (in sq. ft.): double (nullable = true)\n",
            " |-- Address: integer (nullable = true)\n",
            " |-- Street: string (nullable = true)\n",
            " |-- Side: string (nullable = true)\n",
            " |-- Site: integer (nullable = true)\n",
            " |-- Council District: string (nullable = true)\n",
            " |-- Park Name: string (nullable = true)\n",
            " |-- Latitude: double (nullable = true)\n",
            " |-- Longitude: double (nullable = true)\n",
            " |-- Site ID: integer (nullable = true)\n",
            " |-- Location26: string (nullable = true)\n",
            " |-- location27: string (nullable = true)\n",
            "\n"
          ]
        }
      ]
    },
    {
      "cell_type": "code",
      "source": [
        "print(spark_df.columns)\n"
      ],
      "metadata": {
        "colab": {
          "base_uri": "https://localhost:8080/"
        },
        "id": "uIBsWGqn7UV7",
        "outputId": "2287e2ee-3014-4ef3-c633-6322af5df983"
      },
      "execution_count": 8,
      "outputs": [
        {
          "output_type": "stream",
          "name": "stdout",
          "text": [
            "['Editing', 'Botanical Name', 'Common Name', 'DBH', 'Total Yearly Eco Benefits ($)', 'Stormwater Benefits ($)', 'Stormwater Gallons Saved', 'Greenhouse CO2 Benefits ($)', 'CO2 Avoided (in lbs.)', 'CO2 Sequestered (in lbs.)', 'Energy Benefits ($)', 'kWh Saved', 'Therms Saved', 'Air Quality Benefits ($)', 'Pollutants Saved (in lbs.)', 'Property Benefits ($)', 'Leaf Surface Area (in sq. ft.)', 'Address', 'Street', 'Side', 'Site', 'Council District', 'Park Name', 'Latitude', 'Longitude', 'Site ID', 'Location26', 'location27']\n"
          ]
        }
      ]
    },
    {
      "cell_type": "code",
      "source": [
        "# we will select the columns which can yield us more valuable insights for the problem statement\n",
        "selected_columns = [\n",
        "    \"DBH\",\n",
        "    \"Total Yearly Eco Benefits ($)\",\n",
        "    \"Stormwater Benefits ($)\",\n",
        "    \"Energy Benefits ($)\",\n",
        "    \"Property Benefits ($)\",\n",
        "    \"Greenhouse CO2 Benefits ($)\",\n",
        "    \"Latitude\",\n",
        "    \"Longitude\"\n",
        "]"
      ],
      "metadata": {
        "id": "8EbkwlKw6vvH"
      },
      "execution_count": 9,
      "outputs": []
    },
    {
      "cell_type": "code",
      "source": [
        "spark_df.select(*selected_columns).describe().show()"
      ],
      "metadata": {
        "colab": {
          "base_uri": "https://localhost:8080/"
        },
        "id": "1ZjZOcGX6yue",
        "outputId": "91c7885f-c32c-4bfb-da1e-4264955c380e"
      },
      "execution_count": 11,
      "outputs": [
        {
          "output_type": "stream",
          "name": "stdout",
          "text": [
            "+-------+------------------+-----------------------------+-----------------------+-------------------+---------------------+---------------------------+-------------------+-------------------+\n",
            "|summary|               DBH|Total Yearly Eco Benefits ($)|Stormwater Benefits ($)|Energy Benefits ($)|Property Benefits ($)|Greenhouse CO2 Benefits ($)|           Latitude|          Longitude|\n",
            "+-------+------------------+-----------------------------+-----------------------+-------------------+---------------------+---------------------------+-------------------+-------------------+\n",
            "|  count|            133228|                       133228|                 133228|             133228|               133191|                     133228|             133229|             133229|\n",
            "|   mean| 7.323541222565827|            58.41727144443832|      3.946974584922202| 26.192489191459845|   25.422885630410125|        0.30671187738313754|  42.90885823985526| -78.84676971798305|\n",
            "| stddev|10.134186394336968|            76.90927669470473|      7.485669964843889| 36.321634007288196|    33.99828315486418|         0.6468685044376565|0.12220041790196215|0.21805801358982008|\n",
            "|    min|             -10.0|                          0.0|                    0.0|                0.0|                  0.0|                        0.0|                0.0|       -78.91190678|\n",
            "|    max|             508.0|                        469.3|                  68.28|             170.64|               241.99|                        7.6|        42.96555146|                0.0|\n",
            "+-------+------------------+-----------------------------+-----------------------+-------------------+---------------------+---------------------------+-------------------+-------------------+\n",
            "\n"
          ]
        }
      ]
    },
    {
      "cell_type": "code",
      "source": [
        "spark_df.select(*selected_columns).filter(\n",
        "    (col(\"DBH\").isNull()) |\n",
        "    (col(\"Total Yearly Eco Benefits ($)\").isNull()) |\n",
        "    (col(\"Stormwater Benefits ($)\").isNull()) |\n",
        "    (col(\"Energy Benefits ($)\").isNull()) |\n",
        "    (col(\"Property Benefits ($)\").isNull()) |\n",
        "    (col(\"Greenhouse CO2 Benefits ($)\").isNull()) |\n",
        "    (col(\"Latitude\").isNull()) |\n",
        "    (col(\"Longitude\").isNull())\n",
        ").show()"
      ],
      "metadata": {
        "colab": {
          "base_uri": "https://localhost:8080/"
        },
        "id": "MeLbWa4I61Pe",
        "outputId": "f0ed72de-f13b-489c-fb97-0529b6bb174f"
      },
      "execution_count": 12,
      "outputs": [
        {
          "output_type": "stream",
          "name": "stdout",
          "text": [
            "+----+-----------------------------+-----------------------+-------------------+---------------------+---------------------------+-----------+------------+\n",
            "| DBH|Total Yearly Eco Benefits ($)|Stormwater Benefits ($)|Energy Benefits ($)|Property Benefits ($)|Greenhouse CO2 Benefits ($)|   Latitude|   Longitude|\n",
            "+----+-----------------------------+-----------------------+-------------------+---------------------+---------------------------+-----------+------------+\n",
            "|NULL|                         NULL|                   NULL|               NULL|                  0.0|                       NULL|42.94612971|-78.83746975|\n",
            "| 0.0|                          0.0|                    0.0|                0.0|                 NULL|                        0.0|42.92760411|-78.80868909|\n",
            "| 0.0|                          0.0|                    0.0|                0.0|                 NULL|                        0.0|42.95173734|-78.84902234|\n",
            "|17.0|                       137.88|                   4.48|              66.65|                 NULL|                       0.14|42.92851299|-78.89181299|\n",
            "| 0.0|                          0.0|                    0.0|                0.0|                 NULL|                        0.0|42.94993575|-78.84179578|\n",
            "| 0.0|                          0.0|                    0.0|                0.0|                 NULL|                        0.0|42.88560799|-78.87091456|\n",
            "| 0.0|                          0.0|                    0.0|                0.0|                 NULL|                        0.0|42.95147828|-78.84532934|\n",
            "| 0.0|                          0.0|                    0.0|                0.0|                 NULL|                        0.0|42.93703315|-78.86712532|\n",
            "| 0.0|                          0.0|                    0.0|                0.0|                 NULL|                        0.0|42.93051903|-78.85703863|\n",
            "|10.0|                       103.12|                   7.54|              38.89|                 NULL|                       0.61|42.95793812|-78.84241116|\n",
            "| 0.0|                          0.0|                    0.0|                0.0|                 NULL|                        0.0|42.95793321| -78.8599007|\n",
            "| 0.0|                          0.0|                    0.0|                0.0|                 NULL|                        0.0|42.95838535|-78.84870725|\n",
            "| 0.0|                          0.0|                    0.0|                0.0|                 NULL|                        0.0|42.94491882| -78.8496939|\n",
            "| 0.0|                          0.0|                    0.0|                0.0|                 NULL|                        0.0|42.92429028|-78.87364512|\n",
            "| 0.0|                          0.0|                    0.0|                0.0|                 NULL|                        0.0|  42.936598|-78.80858744|\n",
            "| 0.0|                          0.0|                    0.0|                0.0|                 NULL|                        0.0|42.95005331|-78.82759504|\n",
            "| 0.0|                          0.0|                    0.0|                0.0|                 NULL|                        0.0|42.93886069|-78.84426658|\n",
            "| 0.0|                          0.0|                    0.0|                0.0|                 NULL|                        0.0|42.93834201|-78.84112881|\n",
            "| 0.0|                          0.0|                    0.0|                0.0|                 NULL|                        0.0|42.94097148|-78.85151975|\n",
            "| 0.0|                          0.0|                    0.0|                0.0|                 NULL|                        0.0|42.95615712|-78.86193751|\n",
            "+----+-----------------------------+-----------------------+-------------------+---------------------+---------------------------+-----------+------------+\n",
            "only showing top 20 rows\n",
            "\n"
          ]
        }
      ]
    },
    {
      "cell_type": "code",
      "source": [
        "# mean of all selected columns\n",
        "mean_dbh = spark_df.filter(col(\"DBH\") > 0).agg(mean(\"DBH\")).first()[0]\n",
        "mean_eco = spark_df.agg(mean(\"Total Yearly Eco Benefits ($)\")).first()[0]\n",
        "mean_storm = spark_df.agg(mean(\"Stormwater Benefits ($)\")).first()[0]\n",
        "mean_energy = spark_df.agg(mean(\"Energy Benefits ($)\")).first()[0]\n",
        "mean_property = spark_df.agg(mean(\"Property Benefits ($)\")).first()[0]\n",
        "mean_greenhouse = spark_df.agg(mean(\"Greenhouse CO2 Benefits ($)\")).first()[0]\n"
      ],
      "metadata": {
        "id": "coYdz97W9rvC"
      },
      "execution_count": 13,
      "outputs": []
    },
    {
      "cell_type": "code",
      "source": [
        "# replacing invalid or missing values with Mean values\n",
        "cleaned_df = spark_df.withColumn(\n",
        "    \"DBH\", when(col(\"DBH\") > 0, col(\"DBH\")).otherwise(mean_dbh)\n",
        ").withColumn(\n",
        "    \"Total Yearly Eco Benefits ($)\", when(col(\"Total Yearly Eco Benefits ($)\") > 0, col(\"Total Yearly Eco Benefits ($)\")).otherwise(mean_eco)\n",
        ").withColumn(\n",
        "    \"Stormwater Benefits ($)\", when(col(\"Stormwater Benefits ($)\") > 0, col(\"Stormwater Benefits ($)\")).otherwise(mean_storm)\n",
        ").withColumn(\n",
        "    \"Energy Benefits ($)\", when(col(\"Energy Benefits ($)\") > 0, col(\"Energy Benefits ($)\")).otherwise(mean_energy)\n",
        ").withColumn(\n",
        "    \"Property Benefits ($)\", when(col(\"Property Benefits ($)\") > 0, col(\"Property Benefits ($)\")).otherwise(mean_property)\n",
        ").withColumn(\n",
        "    \"Greenhouse CO2 Benefits ($)\", when(col(\"Greenhouse CO2 Benefits ($)\") > 0, col(\"Greenhouse CO2 Benefits ($)\")).otherwise(mean_greenhouse)\n",
        ")"
      ],
      "metadata": {
        "id": "QoM7YOBI9xg8"
      },
      "execution_count": 14,
      "outputs": []
    },
    {
      "cell_type": "code",
      "source": [
        "cleaned_df.select(*selected_columns).describe().show()"
      ],
      "metadata": {
        "colab": {
          "base_uri": "https://localhost:8080/"
        },
        "id": "xtK-TFKG91DO",
        "outputId": "99abcd35-e4c6-4552-e06d-5550a459bfdd"
      },
      "execution_count": 15,
      "outputs": [
        {
          "output_type": "stream",
          "name": "stdout",
          "text": [
            "+-------+-----------------+-----------------------------+-----------------------+-------------------+---------------------+---------------------------+-------------------+-------------------+\n",
            "|summary|              DBH|Total Yearly Eco Benefits ($)|Stormwater Benefits ($)|Energy Benefits ($)|Property Benefits ($)|Greenhouse CO2 Benefits ($)|           Latitude|          Longitude|\n",
            "+-------+-----------------+-----------------------------+-----------------------+-------------------+---------------------+---------------------------+-------------------+-------------------+\n",
            "|  count|           133229|                       133229|                 133229|             133229|               133229|                     133229|             133229|             133229|\n",
            "|   mean|13.42784253551056|            86.12523455398863|      5.819068633296997| 38.615878821234126|    37.47513744058235|         0.4562957588568181|  42.90885823985526| -78.84676971798305|\n",
            "| stddev| 7.61530591473877|            59.40218607275016|      6.718698438091178|  28.97425556058145|   26.530932646930456|         0.5917606933867734|0.12220041790196215|0.21805801358982008|\n",
            "|    min|              1.0|                         4.57|                   0.03|               0.41|                 0.01|                       0.01|                0.0|       -78.91190678|\n",
            "|    max|            508.0|                        469.3|                  68.28|             170.64|               241.99|                        7.6|        42.96555146|                0.0|\n",
            "+-------+-----------------+-----------------------------+-----------------------+-------------------+---------------------+---------------------------+-------------------+-------------------+\n",
            "\n"
          ]
        }
      ]
    },
    {
      "cell_type": "code",
      "source": [
        "# uses vectorassembler, feature engineering tool which is a ML library in pyspark that combines multiple input columns into single vector column\n",
        "assembler = VectorAssembler(\n",
        "    inputCols=[\n",
        "        \"DBH\",\n",
        "        \"Total Yearly Eco Benefits ($)\",\n",
        "        \"Stormwater Benefits ($)\",\n",
        "        \"Energy Benefits ($)\",\n",
        "        \"Property Benefits ($)\",\n",
        "        \"Greenhouse CO2 Benefits ($)\",\n",
        "        \"Latitude\",\n",
        "        \"Longitude\"\n",
        "    ],\n",
        "    outputCol=\"features\"\n",
        ")"
      ],
      "metadata": {
        "id": "T9UX5Qso93Kz"
      },
      "execution_count": 16,
      "outputs": []
    },
    {
      "cell_type": "code",
      "source": [
        "#performs feature vectorization and standardization\n",
        "df_vector = assembler.transform(cleaned_df)\n",
        "\n",
        "# Standardize features\n",
        "scaler = StandardScaler(inputCol=\"features\", outputCol=\"scaledFeatures\")\n",
        "scaler_model = scaler.fit(df_vector)\n",
        "df_scaled = scaler_model.transform(df_vector)"
      ],
      "metadata": {
        "id": "FOE4s43599K0"
      },
      "execution_count": 17,
      "outputs": []
    },
    {
      "cell_type": "code",
      "source": [
        "#Implement KMeans Clustering Analysis with Spark MLlib - Algorithm1\n",
        "\n",
        "from pyspark.ml.clustering import KMeans\n",
        "import matplotlib.pyplot as plt\n",
        "\n",
        "cost = []\n",
        "k_range = range(2, 10)\n",
        "\n",
        "for k in k_range:\n",
        "    kmeans = KMeans(featuresCol='scaledFeatures', k=k)\n",
        "    model = kmeans.fit(df_scaled)\n",
        "    cost.append(model.summary.trainingCost)\n",
        "\n",
        "# Plot the elbow curve\n",
        "plt.figure(figsize=(8, 6))\n",
        "plt.plot(k_range, cost, marker='o')\n",
        "plt.xlabel('Number of Clusters (k)')\n",
        "plt.ylabel('Cost')\n",
        "plt.title('Elbow Method For Optimal k')\n",
        "plt.show()\n"
      ],
      "metadata": {
        "colab": {
          "base_uri": "https://localhost:8080/",
          "height": 564
        },
        "id": "w3T3IAjK-nwb",
        "outputId": "c2fcb54d-0dd1-4b47-bad0-4c5322a60f7f"
      },
      "execution_count": 18,
      "outputs": [
        {
          "output_type": "display_data",
          "data": {
            "text/plain": [
              "<Figure size 800x600 with 1 Axes>"
            ],
            "image/png": "[encoded data removed]"
          },
          "metadata": {}
        }
      ]
    },
    {
      "cell_type": "code",
      "source": [
        "\n",
        "optimal_k = 5\n",
        "kmeans = KMeans(featuresCol='scaledFeatures', k=optimal_k)\n",
        "model = kmeans.fit(df_scaled)\n",
        "\n",
        "\n",
        "df_clusters = model.transform(df_scaled)\n"
      ],
      "metadata": {
        "id": "rivQ0yvV-2XR"
      },
      "execution_count": 19,
      "outputs": []
    },
    {
      "cell_type": "code",
      "source": [
        "df_clusters.select(\"DBH\", \"Total Yearly Eco Benefits ($)\", \"Latitude\", \"Longitude\", \"prediction\").show(10)\n"
      ],
      "metadata": {
        "colab": {
          "base_uri": "https://localhost:8080/"
        },
        "id": "rtPJqBfW_hTL",
        "outputId": "75a2ced1-9f4e-426f-d253-85e687fda503"
      },
      "execution_count": 20,
      "outputs": [
        {
          "output_type": "stream",
          "name": "stdout",
          "text": [
            "+-----------------+-----------------------------+-----------+------------+----------+\n",
            "|              DBH|Total Yearly Eco Benefits ($)|   Latitude|   Longitude|prediction|\n",
            "+-----------------+-----------------------------+-----------+------------+----------+\n",
            "|13.42784253550589|            58.41727144443832|42.94916506|-78.84132058|         0|\n",
            "|13.42784253550589|            58.41727144443832| 42.9298088| -78.8102528|         0|\n",
            "|13.42784253550589|            58.41727144443832|42.93403165|-78.81354384|         0|\n",
            "|13.42784253550589|            58.41727144443832|42.95695596| -78.8357816|         0|\n",
            "|13.42784253550589|            58.41727144443832|42.94822402|-78.81783686|         0|\n",
            "|13.42784253550589|            58.41727144443832|42.95575458|-78.82293974|         0|\n",
            "|13.42784253550589|            58.41727144443832|42.95688523|-78.82363232|         0|\n",
            "|13.42784253550589|            58.41727144443832|42.95286335| -78.8254994|         0|\n",
            "|13.42784253550589|            58.41727144443832|42.95452409|-78.82902754|         0|\n",
            "|13.42784253550589|            58.41727144443832| 42.9528244|-78.82960957|         0|\n",
            "+-----------------+-----------------------------+-----------+------------+----------+\n",
            "only showing top 10 rows\n",
            "\n"
          ]
        }
      ]
    },
    {
      "cell_type": "code",
      "source": [
        "#Implement Regression Analysis with Spark MLlib - Algorithm2\n",
        "\n",
        "# Select features and label\n",
        "# performing feature engineering here\n",
        "assembler = VectorAssembler(\n",
        "    inputCols=[\"DBH\", \"Stormwater Benefits ($)\", \"Greenhouse CO2 Benefits ($)\"],\n",
        "    outputCol=\"features\"\n",
        ")\n",
        "df_regression = assembler.transform(cleaned_df).select(\"features\", col(\"Total Yearly Eco Benefits ($)\").alias(\"label\"))\n"
      ],
      "metadata": {
        "id": "lr9ZCw3h_nYm"
      },
      "execution_count": 22,
      "outputs": []
    },
    {
      "cell_type": "code",
      "source": [
        "# train and test split performance\n",
        "train_data, test_data = df_regression.randomSplit([0.8, 0.2], seed=42)\n"
      ],
      "metadata": {
        "id": "uVm_9YT1_3Ex"
      },
      "execution_count": 23,
      "outputs": []
    },
    {
      "cell_type": "code",
      "source": [
        "# Linear regression model\n",
        "from pyspark.ml.regression import LinearRegression\n",
        "\n",
        "lr = LinearRegression(featuresCol='features', labelCol='label')\n",
        "lr_model = lr.fit(train_data)\n",
        "\n",
        "# Evaluate the model\n",
        "training_summary = lr_model.summary\n",
        "print(\"R^2 on training data: \", training_summary.r2)\n"
      ],
      "metadata": {
        "colab": {
          "base_uri": "https://localhost:8080/"
        },
        "id": "dYEpkEm7Ab8L",
        "outputId": "0305d9d9-1ad8-4fe5-c5a5-ec83b180734d"
      },
      "execution_count": 24,
      "outputs": [
        {
          "output_type": "stream",
          "name": "stdout",
          "text": [
            "R^2 on training data:  0.7201567253984525\n"
          ]
        }
      ]
    },
    {
      "cell_type": "code",
      "source": [
        "# model predictions\n",
        "predictions = lr_model.transform(test_data)\n",
        "predictions.select(\"features\", \"label\", \"prediction\").show(5)\n"
      ],
      "metadata": {
        "colab": {
          "base_uri": "https://localhost:8080/"
        },
        "id": "zX8ZL0m6AfD8",
        "outputId": "1663919e-a067-40e3-93be-63d38230fba8"
      },
      "execution_count": 25,
      "outputs": [
        {
          "output_type": "stream",
          "name": "stdout",
          "text": [
            "+--------------------+-----+------------------+\n",
            "|            features|label|        prediction|\n",
            "+--------------------+-----+------------------+\n",
            "|[1.0,0.03,0.30671...| 4.57|34.921455549601376|\n",
            "|[1.0,0.03,0.30671...|27.82|34.921455549601376|\n",
            "|[1.0,0.04,0.30671...|  4.7| 34.97183431265176|\n",
            "|[1.0,0.05,0.30671...|16.99| 35.02221307570213|\n",
            "|[1.0,0.05,0.30671...|31.06| 35.02221307570213|\n",
            "+--------------------+-----+------------------+\n",
            "only showing top 5 rows\n",
            "\n"
          ]
        }
      ]
    },
    {
      "cell_type": "code",
      "source": [
        "#Evaluate Model Performance\n",
        "\n",
        "from pyspark.ml.evaluation import RegressionEvaluator\n",
        "\n",
        "# Mean Absolute Error (MAE): Measures the average absolute difference between predicted and actual values (lower is better)\n",
        "mae_evaluator = RegressionEvaluator(labelCol=\"label\", predictionCol=\"prediction\", metricName=\"mae\")\n",
        "mae = mae_evaluator.evaluate(predictions)\n",
        "print(\"Mean Absolute Error (MAE) = %g\" % mae)\n",
        "\n",
        "# R² Score: Indicates how well the model explains the variance in the data (higher is better, range 0<=R^2<=1).\n",
        "r2_evaluator = RegressionEvaluator(labelCol=\"label\", predictionCol=\"prediction\", metricName=\"r2\")\n",
        "r2 = r2_evaluator.evaluate(predictions)\n",
        "print(\"R² Score = %g\" % r2)\n",
        "\n"
      ],
      "metadata": {
        "colab": {
          "base_uri": "https://localhost:8080/"
        },
        "id": "7bc3Cb_KAjxV",
        "outputId": "03e7fd9c-14e9-4775-cc03-a5a7f2fd6bee"
      },
      "execution_count": 27,
      "outputs": [
        {
          "output_type": "stream",
          "name": "stdout",
          "text": [
            "Mean Absolute Error (MAE) = 23.1829\n",
            "R² Score = 0.730543\n"
          ]
        }
      ]
    },
    {
      "cell_type": "code",
      "source": [
        "#Decision Trees (Classification) - Algorithm3\n",
        "\n",
        "# Create a label based on EcoBenefits (e.g., High, Medium, Low)\n",
        "from pyspark.sql.functions import when\n",
        "\n",
        "df_classification = cleaned_df.withColumn(\n",
        "    \"label\",\n",
        "    when(col(\"Total Yearly Eco Benefits ($)\") >= 100, 2).  # High\n",
        "    when((col(\"Total Yearly Eco Benefits ($)\") >= 50) & (col(\"Total Yearly Eco Benefits ($)\") < 100), 1).  # Medium\n",
        "    otherwise(0)  # Low\n",
        ")\n",
        "\n",
        "# feature engineernig\n",
        "assembler = VectorAssembler(\n",
        "    inputCols=[\"DBH\", \"Stormwater Benefits ($)\", \"Greenhouse CO2 Benefits ($)\"],\n",
        "    outputCol=\"features\"\n",
        ")\n",
        "df_classification = assembler.transform(df_classification).select(\"features\", \"label\")\n",
        "\n",
        "\n"
      ],
      "metadata": {
        "id": "PkpnDKcuAnst"
      },
      "execution_count": 28,
      "outputs": []
    },
    {
      "cell_type": "code",
      "source": [
        "# train-test split\n",
        "train_data, test_data = df_classification.randomSplit([0.8, 0.2], seed=42)\n"
      ],
      "metadata": {
        "id": "eR67HT0oBHo1"
      },
      "execution_count": 29,
      "outputs": []
    },
    {
      "cell_type": "code",
      "source": [
        "# decision tree classification\n",
        "from pyspark.ml.classification import DecisionTreeClassifier\n",
        "\n",
        "dt = DecisionTreeClassifier(featuresCol='features', labelCol='label')\n",
        "dt_model = dt.fit(train_data)\n",
        "\n",
        "predictions = dt_model.transform(test_data)\n"
      ],
      "metadata": {
        "id": "p7QuPk80BOI_"
      },
      "execution_count": 30,
      "outputs": []
    },
    {
      "cell_type": "code",
      "source": [
        "#Evalutation Metrics for Decision Tree - 1\n",
        "\n",
        "from pyspark.ml.evaluation import MulticlassClassificationEvaluator\n",
        "\n",
        "evaluator = MulticlassClassificationEvaluator(labelCol=\"label\", predictionCol=\"prediction\", metricName=\"accuracy\")\n",
        "accuracy = evaluator.evaluate(predictions)\n",
        "print(\"Test Accuracy = %g \" % accuracy)\n"
      ],
      "metadata": {
        "colab": {
          "base_uri": "https://localhost:8080/"
        },
        "id": "jljKDgHrBjQP",
        "outputId": "644e4903-6cca-44f2-f82d-2182693e241b"
      },
      "execution_count": 32,
      "outputs": [
        {
          "output_type": "stream",
          "name": "stdout",
          "text": [
            "Test Accuracy = 0.915961 \n"
          ]
        }
      ]
    },
    {
      "cell_type": "code",
      "source": [
        "#Evalutation Metrics for Decision Tree - 2\n",
        "\n",
        "from pyspark.ml.evaluation import MulticlassClassificationEvaluator\n",
        "\n",
        "# Precision\n",
        "precision_evaluator = MulticlassClassificationEvaluator(labelCol=\"label\", predictionCol=\"prediction\", metricName=\"weightedPrecision\")\n",
        "precision = precision_evaluator.evaluate(predictions)\n",
        "print(\"Precision = %g\" % precision)\n",
        "\n",
        "# Recall\n",
        "recall_evaluator = MulticlassClassificationEvaluator(labelCol=\"label\", predictionCol=\"prediction\", metricName=\"weightedRecall\")\n",
        "recall = recall_evaluator.evaluate(predictions)\n",
        "print(\"Recall = %g\" % recall)\n",
        "\n",
        "# F1-Score\n",
        "f1_evaluator = MulticlassClassificationEvaluator(labelCol=\"label\", predictionCol=\"prediction\", metricName=\"f1\")\n",
        "f1_score = f1_evaluator.evaluate(predictions)\n",
        "print(\"F1-Score = %g\" % f1_score)\n"
      ],
      "metadata": {
        "colab": {
          "base_uri": "https://localhost:8080/"
        },
        "id": "QOOFLbHF_LO9",
        "outputId": "67138c7b-1b4d-4212-b3a0-b7d37e90f938"
      },
      "execution_count": 33,
      "outputs": [
        {
          "output_type": "stream",
          "name": "stdout",
          "text": [
            "Precision = 0.923664\n",
            "Recall = 0.915961\n",
            "F1-Score = 0.917846\n"
          ]
        }
      ]
    },
    {
      "cell_type": "code",
      "source": [
        "#aggregated eco benefits for each council district using Map Reduce - Algorithm 4\n",
        "\n",
        "\n",
        "df_clean = cleaned_df.na.drop(subset=[\"Council District\"])\n",
        "\n",
        "\n",
        "rdd = df_clean.rdd\n",
        "\n",
        "\n",
        "def map_function(row):\n",
        "    return (row['Council District'], float(row['Total Yearly Eco Benefits ($)'] or 0))\n",
        "\n",
        "\n",
        "def reduce_function(a, b):\n",
        "    return a + b\n",
        "\n",
        "\n",
        "district_benefits = rdd.map(map_function).reduceByKey(reduce_function).collect()\n",
        "\n",
        "\n",
        "for district, total_benefit in district_benefits:\n",
        "    print(f\"Council District: {district}, Total Eco Benefits: ${total_benefit:.2f}\")\n"
      ],
      "metadata": {
        "colab": {
          "base_uri": "https://localhost:8080/"
        },
        "id": "7nt9mKesBjY1",
        "outputId": "96707939-f96c-49e6-f583-e2f284a5fb86"
      },
      "execution_count": 34,
      "outputs": [
        {
          "output_type": "stream",
          "name": "stdout",
          "text": [
            "Council District: University, Total Eco Benefits: $926434.67\n",
            "Council District: Delaware, Total Eco Benefits: $1978581.90\n",
            "Council District: Fillmore, Total Eco Benefits: $1155794.27\n",
            "Council District: Lovejoy, Total Eco Benefits: $998682.23\n",
            "Council District: Masten, Total Eco Benefits: $1259943.88\n",
            "Council District: Niagara, Total Eco Benefits: $1034537.20\n",
            "Council District: North, Total Eco Benefits: $974987.70\n",
            "Council District: Ellicott, Total Eco Benefits: $1491429.72\n",
            "Council District: South, Total Eco Benefits: $1653987.31\n"
          ]
        }
      ]
    },
    {
      "cell_type": "code",
      "source": [
        "#Enhancing K-Means Clustering - Building Recommendations on Plantations\n",
        "cluster_data = df_clusters.select(\"Latitude\", \"Longitude\", \"prediction\").toPandas()\n"
      ],
      "metadata": {
        "id": "k2_YBzVWBjff"
      },
      "execution_count": 35,
      "outputs": []
    },
    {
      "cell_type": "code",
      "source": [
        "#Retrieve the centroids:\n",
        "centroids = model.clusterCenters()\n",
        "for i, centroid in enumerate(centroids):\n",
        "    print(f\"Cluster {i} Centroid: {centroid}\")\n"
      ],
      "metadata": {
        "colab": {
          "base_uri": "https://localhost:8080/"
        },
        "id": "BS0it7A4BjlQ",
        "outputId": "a0a0297f-6752-4f94-e5f1-49d70e69a593"
      },
      "execution_count": 36,
      "outputs": [
        {
          "output_type": "stream",
          "name": "stdout",
          "text": [
            "Cluster 0 Centroid: [   1.40781955    0.95451429    0.47270104    0.82140349    1.03258819\n",
            "    0.4302211   351.13461207 -361.58612091]\n",
            "Cluster 1 Centroid: [1.76327027 0.98341956 0.58746119 0.90399179 0.95823566 0.5183039\n",
            " 0.         0.        ]\n",
            "Cluster 2 Centroid: [   3.21464753    3.63072837    2.41305067    3.31029564    3.48734593\n",
            "    2.15668085  351.11469438 -361.58830435]\n",
            "Cluster 3 Centroid: [   2.24480489    2.16769075    1.20683119    2.22626802    1.88171623\n",
            "    1.03157284  351.1747749  -361.60547511]\n",
            "Cluster 4 Centroid: [   4.4938023     4.55676735    5.27143418    4.25061041    3.30513615\n",
            "    4.69713023  351.04193615 -361.55880427]\n"
          ]
        }
      ]
    },
    {
      "cell_type": "code",
      "source": [
        "# cluster level analysis\n",
        "df_clusters.groupBy(\"prediction\").mean(\n",
        "    \"DBH\",\n",
        "    \"Total Yearly Eco Benefits ($)\",\n",
        "    \"Stormwater Benefits ($)\",\n",
        "    \"Energy Benefits ($)\",\n",
        "    \"Property Benefits ($)\",\n",
        "    \"Greenhouse CO2 Benefits ($)\"\n",
        ").show()\n"
      ],
      "metadata": {
        "colab": {
          "base_uri": "https://localhost:8080/"
        },
        "id": "N9cpJdinBjsF",
        "outputId": "88b7c5f8-2a9b-495d-f322-915f7dfe7d35"
      },
      "execution_count": 37,
      "outputs": [
        {
          "output_type": "stream",
          "name": "stdout",
          "text": [
            "+----------+------------------+----------------------------------+----------------------------+------------------------+--------------------------+--------------------------------+\n",
            "|prediction|          avg(DBH)|avg(Total Yearly Eco Benefits ($))|avg(Stormwater Benefits ($))|avg(Energy Benefits ($))|avg(Property Benefits ($))|avg(Greenhouse CO2 Benefits ($))|\n",
            "+----------+------------------+----------------------------------+----------------------------+------------------------+--------------------------+--------------------------------+\n",
            "|         1| 13.42784253550589|                 58.41727144443832|           3.946974584922202|      26.192489191459845|        25.422885630410125|             0.30671187738313754|\n",
            "|         3|16.965370245825767|                127.79338630928605|           8.013802369306573|       64.02803808507099|         49.58461701322368|              0.6039433974783674|\n",
            "|         4| 33.93905036229722|                  270.612252996005|           35.12297736351538|      122.85811984021348|         88.33736162067412|              2.7602583222370125|\n",
            "|         2|24.479185468748394|                214.32388114532594|          15.947353862776863|       95.57394381415641|         92.05699729875721|              1.2443684494867444|\n",
            "|         0| 10.70923366753675|                56.511564768750986|           3.174888855197183|      23.686729419390698|        27.316664491979854|              0.2552700486244766|\n",
            "+----------+------------------+----------------------------------+----------------------------+------------------------+--------------------------+--------------------------------+\n",
            "\n"
          ]
        }
      ]
    },
    {
      "cell_type": "code",
      "source": [
        "#Geographical Analysis -  Algorithm 5\n",
        "import folium\n",
        "from folium.plugins import MarkerCluster\n",
        "\n",
        "# Initialize map\n",
        "map_center = [cluster_data['Latitude'].mean(), cluster_data['Longitude'].mean()]\n",
        "m = folium.Map(location=map_center, zoom_start=12)\n",
        "\n",
        "# Define custom colors for clusters\n",
        "cluster_colors = {\n",
        "    1: \"red\",         # C1\n",
        "    4: \"orange\",      # C4\n",
        "    3: \"blue\",        # C3\n",
        "    2: \"lightgreen\",  # C2\n",
        "    0: \"darkgreen\"    # C0\n",
        "}\n",
        "\n",
        "# Add clustered points to the map with specified colors\n",
        "for idx, row in cluster_data.iterrows():\n",
        "    cluster_color = cluster_colors[int(row['prediction'])]  # Get the color for the cluster\n",
        "    folium.CircleMarker(\n",
        "        location=[row['Latitude'], row['Longitude']],\n",
        "        radius=2,\n",
        "        color=cluster_color,\n",
        "        fill=True,\n",
        "        fill_opacity=0.6\n",
        "    ).add_to(m)\n",
        "\n",
        "# Save the map to an HTML file\n",
        "m.save('cluster_map.html')\n"
      ],
      "metadata": {
        "id": "xVvCu4WHQiS3"
      },
      "execution_count": 38,
      "outputs": []
    },
    {
      "cell_type": "code",
      "source": [
        "#Methods to Evaluate Clustering - silhouette score\n",
        "from pyspark.ml.evaluation import ClusteringEvaluator\n",
        "\n",
        "# Initialize the evaluator\n",
        "evaluator = ClusteringEvaluator(featuresCol=\"scaledFeatures\", metricName=\"silhouette\")\n",
        "\n",
        "# Calculate silhouette score\n",
        "silhouette_score = evaluator.evaluate(df_clusters)\n",
        "print(f\"Silhouette Score: {silhouette_score}\")\n",
        "\n"
      ],
      "metadata": {
        "colab": {
          "base_uri": "https://localhost:8080/"
        },
        "id": "-eNBd-irVD8_",
        "outputId": "546db9ee-0085-4abf-e608-fe86a15a3fdb"
      },
      "execution_count": 39,
      "outputs": [
        {
          "output_type": "stream",
          "name": "stdout",
          "text": [
            "Silhouette Score: 0.664560959657904\n"
          ]
        }
      ]
    },
    {
      "cell_type": "code",
      "source": [
        "# cluster level statistics\n",
        "df_clusters.groupBy(\"prediction\").mean(\n",
        "    \"DBH\", \"Total Yearly Eco Benefits ($)\", \"Stormwater Benefits ($)\"\n",
        ").show()\n"
      ],
      "metadata": {
        "colab": {
          "base_uri": "https://localhost:8080/"
        },
        "id": "b-7HSRZhVQoS",
        "outputId": "42cd47cb-652f-4214-9fa6-692837fb2637"
      },
      "execution_count": 40,
      "outputs": [
        {
          "output_type": "stream",
          "name": "stdout",
          "text": [
            "+----------+------------------+----------------------------------+----------------------------+\n",
            "|prediction|          avg(DBH)|avg(Total Yearly Eco Benefits ($))|avg(Stormwater Benefits ($))|\n",
            "+----------+------------------+----------------------------------+----------------------------+\n",
            "|         1| 13.42784253550589|                 58.41727144443832|           3.946974584922202|\n",
            "|         3|16.965370245825767|                127.79338630928605|           8.013802369306573|\n",
            "|         4| 33.93905036229722|                  270.612252996005|           35.12297736351538|\n",
            "|         2|24.479185468748394|                214.32388114532594|          15.947353862776863|\n",
            "|         0| 10.70923366753675|                56.511564768750986|           3.174888855197183|\n",
            "+----------+------------------+----------------------------------+----------------------------+\n",
            "\n"
          ]
        }
      ]
    },
    {
      "cell_type": "code",
      "source": [
        "#Methods to Evaluate Clustering - Davies-Bouldin Index\n",
        "from sklearn.metrics import davies_bouldin_score\n",
        "\n",
        "# Extract cluster labels and feature data\n",
        "labels = cluster_data[\"prediction\"].values\n",
        "data_points = df_scaled.select(\"scaledFeatures\").rdd.map(lambda x: x[0].toArray()).collect()\n",
        "\n",
        "# Compute Davies-Bouldin Index\n",
        "db_score = davies_bouldin_score(data_points, labels)\n",
        "print(f\"Davies-Bouldin Index: {db_score}\")\n"
      ],
      "metadata": {
        "colab": {
          "base_uri": "https://localhost:8080/"
        },
        "id": "nNUhJEI8_h1d",
        "outputId": "c02d01c2-3945-412e-9cc1-76d54acc54b5"
      },
      "execution_count": 41,
      "outputs": [
        {
          "output_type": "stream",
          "name": "stdout",
          "text": [
            "Davies-Bouldin Index: 0.9516339104578059\n"
          ]
        }
      ]
    },
    {
      "cell_type": "code",
      "source": [
        "#Methods to Evaluate Clustering - Calinski-Harabasz Index\n",
        "from sklearn.metrics import calinski_harabasz_score\n",
        "\n",
        "ch_score = calinski_harabasz_score(data_points, labels)\n",
        "print(f\"Calinski-Harabasz Index: {ch_score}\")\n"
      ],
      "metadata": {
        "colab": {
          "base_uri": "https://localhost:8080/"
        },
        "id": "aV40ER05Bth-",
        "outputId": "8e368b4d-e0c5-4b22-87ca-1348dfe839fc"
      },
      "execution_count": 42,
      "outputs": [
        {
          "output_type": "stream",
          "name": "stdout",
          "text": [
            "Calinski-Harabasz Index: 106802.46115917468\n"
          ]
        }
      ]
    },
    {
      "cell_type": "code",
      "source": [
        "#Prioritize Areas - Recommendation\n",
        "\n",
        "# Filter priority clusters\n",
        "priority_clusters = df_clusters.filter(col(\"prediction\").isin(1, 4))\n",
        "\n",
        "# Rank areas within priority clusters by low ecological benefits\n",
        "ranked_areas = priority_clusters.orderBy(\"Total Yearly Eco Benefits ($)\", ascending=True)\n",
        "ranked_areas.select(\"Latitude\", \"Longitude\", \"Total Yearly Eco Benefits ($)\", \"DBH\").show(10)\n"
      ],
      "metadata": {
        "colab": {
          "base_uri": "https://localhost:8080/"
        },
        "id": "ylm6oZBqWDz9",
        "outputId": "c886b718-1082-4279-bf0e-abaa9d969ba8"
      },
      "execution_count": 43,
      "outputs": [
        {
          "output_type": "stream",
          "name": "stdout",
          "text": [
            "+-----------+------------+-----------------------------+-----------------+\n",
            "|   Latitude|   Longitude|Total Yearly Eco Benefits ($)|              DBH|\n",
            "+-----------+------------+-----------------------------+-----------------+\n",
            "|        0.0|         0.0|            58.41727144443832|13.42784253550589|\n",
            "|42.89132594|-78.80503194|                       103.05|            109.0|\n",
            "|42.93127368|-78.86640726|                       131.26|            175.0|\n",
            "|42.96385396|-78.89681367|                       156.48|            125.0|\n",
            "|42.84741721|-78.80542745|                       156.48|            508.0|\n",
            "|42.94042026|-78.84724547|                       167.26|             42.0|\n",
            "|42.91507529|-78.84599062|                       167.26|             42.0|\n",
            "|42.92030204|-78.87557694|                       167.26|             54.0|\n",
            "|42.84517761|-78.80236082|                       167.26|             55.0|\n",
            "|42.91132348|-78.87190383|                       167.26|             43.0|\n",
            "+-----------+------------+-----------------------------+-----------------+\n",
            "only showing top 10 rows\n",
            "\n"
          ]
        }
      ]
    },
    {
      "cell_type": "code",
      "source": [
        "# Define the target benefit and average benefit per tree\n",
        "target_benefit = 1000\n",
        "average_benefit_per_tree = 10\n",
        "\n",
        "# Calculate the number of trees needed\n",
        "from pyspark.sql.functions import ceil\n",
        "\n",
        "recommended_areas = ranked_areas.withColumn(\n",
        "    \"Trees Needed\",\n",
        "    ceil((target_benefit - col(\"Total Yearly Eco Benefits ($)\")) / average_benefit_per_tree)\n",
        ").filter(col(\"Trees Needed\") > 0)\n",
        "\n",
        "# Show recommendations\n",
        "recommended_areas.select(\"Latitude\", \"Longitude\", \"Total Yearly Eco Benefits ($)\", \"Trees Needed\").show(10)\n",
        "\n",
        "# Convert to Pandas for mapping\n",
        "recommended_areas_pd = recommended_areas.select(\n",
        "    \"Latitude\", \"Longitude\", \"Total Yearly Eco Benefits ($)\", \"Trees Needed\"\n",
        ").toPandas()"
      ],
      "metadata": {
        "colab": {
          "base_uri": "https://localhost:8080/"
        },
        "id": "ESZiAt-jWKNX",
        "outputId": "7457d0db-d2ad-4afe-871d-876a2895909d"
      },
      "execution_count": 44,
      "outputs": [
        {
          "output_type": "stream",
          "name": "stdout",
          "text": [
            "+-----------+------------+-----------------------------+------------+\n",
            "|   Latitude|   Longitude|Total Yearly Eco Benefits ($)|Trees Needed|\n",
            "+-----------+------------+-----------------------------+------------+\n",
            "|        0.0|         0.0|            58.41727144443832|          95|\n",
            "|42.89132594|-78.80503194|                       103.05|          90|\n",
            "|42.93127368|-78.86640726|                       131.26|          87|\n",
            "|42.96385396|-78.89681367|                       156.48|          85|\n",
            "|42.84741721|-78.80542745|                       156.48|          85|\n",
            "|42.94042026|-78.84724547|                       167.26|          84|\n",
            "|42.91507529|-78.84599062|                       167.26|          84|\n",
            "|42.92030204|-78.87557694|                       167.26|          84|\n",
            "|42.84517761|-78.80236082|                       167.26|          84|\n",
            "|42.91132348|-78.87190383|                       167.26|          84|\n",
            "+-----------+------------+-----------------------------+------------+\n",
            "only showing top 10 rows\n",
            "\n"
          ]
        }
      ]
    },
    {
      "cell_type": "code",
      "source": [
        "import folium\n",
        "\n",
        "# Initialize map at the center of all recommendations\n",
        "map_center = [\n",
        "    recommended_areas_pd[\"Latitude\"].mean(),\n",
        "    recommended_areas_pd[\"Longitude\"].mean()\n",
        "]\n",
        "m = folium.Map(location=map_center, zoom_start=12)\n",
        "\n",
        "# Add points to the map\n",
        "for idx, row in recommended_areas_pd.iterrows():\n",
        "    folium.Marker(\n",
        "        location=[row[\"Latitude\"], row[\"Longitude\"]],\n",
        "        popup=(\n",
        "            f\"<b>Latitude:</b> {row['Latitude']}<br>\"\n",
        "            f\"<b>Longitude:</b> {row['Longitude']}<br>\"\n",
        "            f\"<b>Total Eco Benefits ($):</b> {row['Total Yearly Eco Benefits ($)']}<br>\"\n",
        "            f\"<b>Trees Needed:</b> {row['Trees Needed']}\"\n",
        "        ),\n",
        "        icon=folium.Icon(color=\"green\", icon=\"tree\")\n",
        "    ).add_to(m)\n",
        "\n",
        "# Save and display map\n",
        "m.save(\"tree_planting_map.html\")\n",
        "print(\"Map saved as tree_planting_map.html\")\n"
      ],
      "metadata": {
        "colab": {
          "base_uri": "https://localhost:8080/"
        },
        "id": "F4ofWFCVW059",
        "outputId": "ef6cac8b-a259-43fb-b2d5-edab04b4d306"
      },
      "execution_count": 45,
      "outputs": [
        {
          "output_type": "stream",
          "name": "stdout",
          "text": [
            "Map saved as tree_planting_map.html\n"
          ]
        }
      ]
    },
    {
      "cell_type": "code",
      "source": [
        "# Display the top 10 recommended areas\n",
        "print(\"Top 10 Recommended Areas:\")\n",
        "print(recommended_areas_pd[[\"Latitude\", \"Longitude\", \"Trees Needed\"]].head(10))\n"
      ],
      "metadata": {
        "id": "fsy9_l7vW4oG",
        "colab": {
          "base_uri": "https://localhost:8080/"
        },
        "outputId": "09eacc06-940f-4190-f66e-c0eda52d526d"
      },
      "execution_count": 46,
      "outputs": [
        {
          "output_type": "stream",
          "name": "stdout",
          "text": [
            "Top 10 Recommended Areas:\n",
            "    Latitude  Longitude  Trees Needed\n",
            "0   0.000000   0.000000            95\n",
            "1  42.891326 -78.805032            90\n",
            "2  42.931274 -78.866407            87\n",
            "3  42.963854 -78.896814            85\n",
            "4  42.847417 -78.805427            85\n",
            "5  42.940420 -78.847245            84\n",
            "6  42.908616 -78.850540            84\n",
            "7  42.911323 -78.871904            84\n",
            "8  42.920302 -78.875577            84\n",
            "9  42.887765 -78.890271            84\n"
          ]
        }
      ]
    },
    {
      "cell_type": "code",
      "source": [
        "#Visualization 1 - Interactive Cluster Heatmap\n",
        "\n",
        "from folium.plugins import HeatMap\n",
        "\n",
        "# Prepare data for the heatmap\n",
        "heat_data = cluster_data[[\"Latitude\", \"Longitude\"]].values.tolist()\n",
        "\n",
        "# Add a heatmap layer\n",
        "heat_map = folium.Map(location=map_center, zoom_start=12)\n",
        "HeatMap(heat_data).add_to(heat_map)\n",
        "\n",
        "# Save the heatmap\n",
        "heat_map.save(\"cluster_heatmap.html\")\n",
        "print(\"Heatmap saved as cluster_heatmap.html\")\n",
        "\n",
        "\n",
        "\n"
      ],
      "metadata": {
        "colab": {
          "base_uri": "https://localhost:8080/"
        },
        "id": "MlwxffVS7fOr",
        "outputId": "27a0d155-39b4-4b7f-c45e-23e0b26cf058"
      },
      "execution_count": 47,
      "outputs": [
        {
          "output_type": "stream",
          "name": "stdout",
          "text": [
            "Heatmap saved as cluster_heatmap.html\n"
          ]
        }
      ]
    },
    {
      "cell_type": "code",
      "source": [
        "#Visualization 2 - Aggregate average benefits per cluster\n",
        "avg_benefits = df_clusters.groupBy(\"prediction\").mean(\n",
        "    \"Total Yearly Eco Benefits ($)\"\n",
        ").toPandas()\n",
        "\n",
        "plt.figure(figsize=(8, 6))\n",
        "plt.bar(avg_benefits[\"prediction\"], avg_benefits[\"avg(Total Yearly Eco Benefits ($))\"])\n",
        "plt.title(\"Average Eco Benefits by Cluster\")\n",
        "plt.xlabel(\"Cluster\")\n",
        "plt.ylabel(\"Average Eco Benefits ($)\")\n",
        "plt.show()\n"
      ],
      "metadata": {
        "colab": {
          "base_uri": "https://localhost:8080/",
          "height": 564
        },
        "id": "Guux_-Ha7tYp",
        "outputId": "b4a888b3-c172-45f0-fd18-1c4dc0e4d17f"
      },
      "execution_count": 48,
      "outputs": [
        {
          "output_type": "display_data",
          "data": {
            "text/plain": [
              "<Figure size 800x600 with 1 Axes>"
            ],
            "image/png": "[encoded data removed]"
          },
          "metadata": {}
        }
      ]
    },
    {
      "cell_type": "code",
      "source": [
        "!pip install geopy\n"
      ],
      "metadata": {
        "colab": {
          "base_uri": "https://localhost:8080/"
        },
        "id": "BqDTcwcvW7Fw",
        "outputId": "330d8560-f36a-46ec-c293-56a35b479fde"
      },
      "execution_count": 49,
      "outputs": [
        {
          "output_type": "stream",
          "name": "stdout",
          "text": [
            "Requirement already satisfied: geopy in /usr/local/lib/python3.10/dist-packages (2.4.1)\n",
            "Requirement already satisfied: geographiclib<3,>=1.52 in /usr/local/lib/python3.10/dist-packages (from geopy) (2.0)\n"
          ]
        }
      ]
    },
    {
      "cell_type": "code",
      "source": [
        "\n",
        "top_areas_pd = recommended_areas_pd.sort_values(by=\"Trees Needed\", ascending=False).head(10)\n"
      ],
      "metadata": {
        "id": "d17Nqc95gTlf"
      },
      "execution_count": 50,
      "outputs": []
    },
    {
      "cell_type": "code",
      "source": [
        "from geopy.geocoders import Nominatim\n",
        "\n",
        "# Initialize geolocator\n",
        "geolocator = Nominatim(user_agent=\"tree_planting_project\")\n",
        "\n",
        "# Function to get location name from latitude and longitude\n",
        "def get_location(lat, lon):\n",
        "    try:\n",
        "        location = geolocator.reverse((lat, lon), exactly_one=True, timeout=10)\n",
        "        return location.address\n",
        "    except:\n",
        "        return \"Unknown Location\"\n"
      ],
      "metadata": {
        "id": "GYh2P6hWmuR3"
      },
      "execution_count": 51,
      "outputs": []
    },
    {
      "cell_type": "code",
      "source": [
        "# Add location names to the top 10 areas\n",
        "top_areas_pd[\"Location\"] = top_areas_pd.apply(\n",
        "    lambda row: get_location(row[\"Latitude\"], row[\"Longitude\"]),\n",
        "    axis=1\n",
        ")\n",
        "\n",
        "top_areas_pd = top_areas_pd[\n",
        "    (top_areas_pd[\"Latitude\"] != 0) &\n",
        "    (top_areas_pd[\"Longitude\"] != 0) &\n",
        "    (top_areas_pd[\"Location\"] != \"Unknown Location\")\n",
        "]\n",
        "\n",
        "\n",
        "print(\"Top 10 Recommended Areas:\")\n",
        "print(top_areas_pd)\n",
        "\n"
      ],
      "metadata": {
        "colab": {
          "base_uri": "https://localhost:8080/"
        },
        "id": "VYjkKpczgaQ1",
        "outputId": "11cae502-7863-4294-ee81-e0510eb53124"
      },
      "execution_count": 52,
      "outputs": [
        {
          "output_type": "stream",
          "name": "stdout",
          "text": [
            "Top 10 Recommended Areas:\n",
            "     Latitude  Longitude  Total Yearly Eco Benefits ($)  Trees Needed  \\\n",
            "1   42.891326 -78.805032                         103.05            90   \n",
            "2   42.931274 -78.866407                         131.26            87   \n",
            "3   42.963854 -78.896814                         156.48            85   \n",
            "4   42.847417 -78.805427                         156.48            85   \n",
            "16  42.832174 -78.826927                         167.26            84   \n",
            "27  42.874582 -78.800835                         167.48            84   \n",
            "26  42.908477 -78.878660                         167.48            84   \n",
            "25  42.930169 -78.872248                         167.47            84   \n",
            "24  42.840961 -78.803315                         167.47            84   \n",
            "\n",
            "                                             Location  \n",
            "1   240, Gold Street, Buffalo, Erie County, New Yo...  \n",
            "2   Delaware Avenue, Buffalo, Erie County, New Yor...  \n",
            "3   57, Seabrook Street, Buffalo, Erie County, New...  \n",
            "4   Cazenovia Parkway, Buffalo, Erie County, New Y...  \n",
            "16  South Park 9 Hole Golf Course, Park Drive, Buf...  \n",
            "27  101, Wheelock Street, Kaisertown, Buffalo, Eri...  \n",
            "26  133, Ashland Avenue, Elmwood Village, Buffalo,...  \n",
            "25  154, Rumsey Road, Buffalo, Erie County, New Yo...  \n",
            "24  282, Potters Road, Buffalo, Erie County, New Y...  \n"
          ]
        }
      ]
    },
    {
      "cell_type": "code",
      "source": [
        "#Visualization  - Plot on Map\n",
        "\n",
        "import folium\n",
        "\n",
        "# Initialize map at the center of valid areas\n",
        "if len(top_areas_pd) > 0:\n",
        "    map_center = [top_areas_pd[\"Latitude\"].mean(), top_areas_pd[\"Longitude\"].mean()]\n",
        "    m = folium.Map(location=map_center, zoom_start=12)\n",
        "\n",
        "    # Add markers\n",
        "    for idx, row in top_areas_pd.iterrows():\n",
        "        folium.Marker(\n",
        "            location=[row[\"Latitude\"], row[\"Longitude\"]],\n",
        "            popup=(\n",
        "                f\"<b>Location:</b> {row['Location']}<br>\"\n",
        "                f\"<b>Total Eco Benefits ($):</b> {row['Total Yearly Eco Benefits ($)']}<br>\"\n",
        "                f\"<b>Trees Needed:</b> {row['Trees Needed']}\"\n",
        "            ),\n",
        "            icon=folium.Icon(color=\"green\", icon=\"tree\")\n",
        "        ).add_to(m)\n",
        "\n",
        "    # Save the map\n",
        "    m.save(\"top_10_tree_planting_map.html\")\n",
        "    print(\"Map saved as top_10_tree_planting_map.html\")\n",
        "else:\n",
        "    print(\"No valid data to plot.\")\n"
      ],
      "metadata": {
        "id": "u8yq_GNmXPQA",
        "colab": {
          "base_uri": "https://localhost:8080/"
        },
        "outputId": "441c2932-8c50-474b-fc2d-5575ffc58917"
      },
      "execution_count": 53,
      "outputs": [
        {
          "output_type": "stream",
          "name": "stdout",
          "text": [
            "Map saved as top_10_tree_planting_map.html\n"
          ]
        }
      ]
    },
    {
      "cell_type": "code",
      "source": [],
      "metadata": {
        "id": "kcbqM6Nyfli7"
      },
      "execution_count": null,
      "outputs": []
    }
  ]
}